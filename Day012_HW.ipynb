{
 "cells": [
  {
   "cell_type": "markdown",
   "metadata": {},
   "source": [
    "# Ettoday 網路爬蟲實作練習\n",
    "\n",
    "\n",
    "* 能夠利用 Request + BeatifulSour 撰寫爬蟲，並存放到合適的資料結構\n"
   ]
  },
  {
   "cell_type": "markdown",
   "metadata": {},
   "source": [
    "## 作業目標\n",
    "\n",
    "根據範例 ，完成以下問題：\n",
    "\n",
    "* ① 取出今天所有的發文\n",
    "* ② 如果想要依照類別分類，怎麼儲存會比較好？\n",
    "* ③ 哪一個類別的文章最多\n",
    "\n",
    "\n"
   ]
  },
  {
   "cell_type": "markdown",
   "metadata": {},
   "source": [
    "### ① 取出今天所有的發文"
   ]
  },
  {
   "cell_type": "code",
   "execution_count": 21,
   "metadata": {
    "scrolled": false
   },
   "outputs": [
    {
     "name": "stdout",
     "output_type": "stream",
     "text": [
      "['體育', '社會', '國際', '寵物動物', '政治', '體育', '地方', '時尚', '政治', '社會', '影劇', '影劇', '影劇', '健康', '體育', '影劇', '體育', '影劇', '影劇', '生活', '影劇', '時尚', '地方', '地方', '地方', '寵物動物', '影劇', '生活', '國際', '財經', '社會', '影劇', '地方', '寵物動物', '寵物動物', '寵物動物', '財經', '寵物動物', '財經', '體育', '體育', '影劇', '體育', '影劇', '體育', '地方', '寵物動物', '地方', '社會', '體育', '社會', '體育', '體育', '體育', '體育', '地方', '國際', '健康', '影劇', '國際', '財經', '大陸', '保險', '體育', '影劇', '時尚', '旅遊', '體育', '影劇', '政治', '政治', '生活', '影劇', '體育', '寵物動物', '地方', '體育', '影劇', '體育', '財經', '體育', '地方', '國際', '國際', '政治', '生活', '國際', '體育', '國際', '影劇', '政治', '房產雲', '房產雲', '旅遊', '大陸', '生活', '國際', '國際', '時尚', '房產雲']\n"
     ]
    }
   ],
   "source": [
    "import requests\n",
    "from bs4 import BeautifulSoup\n",
    "\n",
    "url=\"https://www.ettoday.net/news/news-list.htm\"\n",
    "urlstr=requests.get(url)\n",
    "goal=(urlstr)\n",
    "\n",
    "soup=BeautifulSoup(goal.text,\"html.parser\")\n",
    "\n",
    "posts=soup.select(\".part_list_2\")\n",
    "\n",
    "titles=[]\n",
    "dates=[]\n",
    "categorys=[]\n",
    "\n",
    "for post in posts:\n",
    "    titles=[title.text for title in post.select(\"a\")] #取出a tag\n",
    "#     print(titles)\n",
    "    dates=[date.text for date in post.select(\".date\")] #使用CSS來取文字， .date是因為 class的關係\n",
    "#     print(dates)\n",
    "    categorys=[cate.text for cate in post.select(\"em\")]\n",
    "    print(categorys)\n"
   ]
  },
  {
   "cell_type": "markdown",
   "metadata": {},
   "source": [
    "### ② 如果想要依照類別分類，怎麼儲存會比較好？"
   ]
  },
  {
   "cell_type": "code",
   "execution_count": 23,
   "metadata": {},
   "outputs": [
    {
     "data": {
      "text/html": [
       "<div>\n",
       "<style scoped>\n",
       "    .dataframe tbody tr th:only-of-type {\n",
       "        vertical-align: middle;\n",
       "    }\n",
       "\n",
       "    .dataframe tbody tr th {\n",
       "        vertical-align: top;\n",
       "    }\n",
       "\n",
       "    .dataframe thead th {\n",
       "        text-align: right;\n",
       "    }\n",
       "</style>\n",
       "<table border=\"1\" class=\"dataframe\">\n",
       "  <thead>\n",
       "    <tr style=\"text-align: right;\">\n",
       "      <th></th>\n",
       "      <th>titles</th>\n",
       "      <th>類別</th>\n",
       "      <th>date</th>\n",
       "    </tr>\n",
       "  </thead>\n",
       "  <tbody>\n",
       "    <tr>\n",
       "      <th>0</th>\n",
       "      <td>師大第3節打反攻「一度以為要贏」　徐詩婷首闖冠軍戰好興奮</td>\n",
       "      <td>體育</td>\n",
       "      <td>2021/03/21 20:24</td>\n",
       "    </tr>\n",
       "    <tr>\n",
       "      <th>1</th>\n",
       "      <td>護理師爬金龍山！遭2男「束帶綁手」捆樹上…慘拿童軍繩下山求救</td>\n",
       "      <td>社會</td>\n",
       "      <td>2021/03/21 20:16</td>\n",
       "    </tr>\n",
       "    <tr>\n",
       "      <th>2</th>\n",
       "      <td>冰島20天「地震4萬次」！休眠6000年火山再爆發　居民崩潰：日夜都在搖</td>\n",
       "      <td>國際</td>\n",
       "      <td>2021/03/21 20:10</td>\n",
       "    </tr>\n",
       "    <tr>\n",
       "      <th>3</th>\n",
       "      <td>驚險影片曝光！講解到一半遭大蟒蛇襲擊　網：牠快抓住你的臉</td>\n",
       "      <td>寵物動物</td>\n",
       "      <td>2021/03/21 20:08</td>\n",
       "    </tr>\n",
       "    <tr>\n",
       "      <th>4</th>\n",
       "      <td>台北日供新北147萬噸水　北水處：再支援外縣市4個月沒問題</td>\n",
       "      <td>政治</td>\n",
       "      <td>2021/03/21 20:07</td>\n",
       "    </tr>\n",
       "    <tr>\n",
       "      <th>...</th>\n",
       "      <td>...</td>\n",
       "      <td>...</td>\n",
       "      <td>...</td>\n",
       "    </tr>\n",
       "    <tr>\n",
       "      <th>95</th>\n",
       "      <td>3月冷氣團今晚急凍12°C　一周內冬天→小夏天「暴力溫差10°C」</td>\n",
       "      <td>生活</td>\n",
       "      <td>2021/03/21 17:23</td>\n",
       "    </tr>\n",
       "    <tr>\n",
       "      <th>96</th>\n",
       "      <td>菲律賓控「中國220艘民兵船」近逼南海島礁！　海上照片公開</td>\n",
       "      <td>國際</td>\n",
       "      <td>2021/03/21 17:23</td>\n",
       "    </tr>\n",
       "    <tr>\n",
       "      <th>97</th>\n",
       "      <td>婆婆「掀衣餵奶」安撫嬰…她氣炸反遭罵：大驚小怪！　網友掀論戰</td>\n",
       "      <td>國際</td>\n",
       "      <td>2021/03/21 17:21</td>\n",
       "    </tr>\n",
       "    <tr>\n",
       "      <th>98</th>\n",
       "      <td>「口紅膠糖果」擺辦公桌會誤認！一不小心就塗紙上　捉弄朋友超好用</td>\n",
       "      <td>時尚</td>\n",
       "      <td>2021/03/21 17:21</td>\n",
       "    </tr>\n",
       "    <tr>\n",
       "      <th>99</th>\n",
       "      <td>下重手限貸！他質疑「央行有什麼立場打房」...2派網友戰翻</td>\n",
       "      <td>房產雲</td>\n",
       "      <td>2021/03/21 17:19</td>\n",
       "    </tr>\n",
       "  </tbody>\n",
       "</table>\n",
       "<p>100 rows × 3 columns</p>\n",
       "</div>"
      ],
      "text/plain": [
       "                                  titles    類別              date\n",
       "0           師大第3節打反攻「一度以為要贏」　徐詩婷首闖冠軍戰好興奮    體育  2021/03/21 20:24\n",
       "1         護理師爬金龍山！遭2男「束帶綁手」捆樹上…慘拿童軍繩下山求救    社會  2021/03/21 20:16\n",
       "2   冰島20天「地震4萬次」！休眠6000年火山再爆發　居民崩潰：日夜都在搖    國際  2021/03/21 20:10\n",
       "3           驚險影片曝光！講解到一半遭大蟒蛇襲擊　網：牠快抓住你的臉  寵物動物  2021/03/21 20:08\n",
       "4          台北日供新北147萬噸水　北水處：再支援外縣市4個月沒問題    政治  2021/03/21 20:07\n",
       "..                                   ...   ...               ...\n",
       "95     3月冷氣團今晚急凍12°C　一周內冬天→小夏天「暴力溫差10°C」    生活  2021/03/21 17:23\n",
       "96         菲律賓控「中國220艘民兵船」近逼南海島礁！　海上照片公開    國際  2021/03/21 17:23\n",
       "97        婆婆「掀衣餵奶」安撫嬰…她氣炸反遭罵：大驚小怪！　網友掀論戰    國際  2021/03/21 17:21\n",
       "98       「口紅膠糖果」擺辦公桌會誤認！一不小心就塗紙上　捉弄朋友超好用    時尚  2021/03/21 17:21\n",
       "99         下重手限貸！他質疑「央行有什麼立場打房」...2派網友戰翻   房產雲  2021/03/21 17:19\n",
       "\n",
       "[100 rows x 3 columns]"
      ]
     },
     "execution_count": 23,
     "metadata": {},
     "output_type": "execute_result"
    }
   ],
   "source": [
    "import pandas as pd\n",
    "\n",
    "df=pd.DataFrame()\n",
    "df[\"titles\"]=titles\n",
    "df[\"類別\"]=categorys\n",
    "df[\"date\"]=dates\n",
    "  #去定義 df的欄位名稱使用df[\"欄位名稱\"]，然後欄位值將之前爬取的東西放入\n",
    "df"
   ]
  },
  {
   "cell_type": "markdown",
   "metadata": {},
   "source": [
    "### ③ 哪一個類別的文章最多"
   ]
  },
  {
   "cell_type": "code",
   "execution_count": 26,
   "metadata": {
    "scrolled": true
   },
   "outputs": [
    {
     "data": {
      "text/plain": [
       "類別\n",
       "體育      20\n",
       "影劇      17\n",
       "地方      10\n",
       "國際      10\n",
       "寵物動物     8\n",
       "政治       6\n",
       "財經       5\n",
       "社會       5\n",
       "生活       5\n",
       "時尚       4\n",
       "房產雲      3\n",
       "旅遊       2\n",
       "大陸       2\n",
       "健康       2\n",
       "保險       1\n",
       "dtype: int64"
      ]
     },
     "execution_count": 26,
     "metadata": {},
     "output_type": "execute_result"
    }
   ],
   "source": [
    "cate_quanity=df.value_counts(\"類別\")\n",
    "cate_quanity\n",
    "\n",
    "#Ans 體育類別最多"
   ]
  },
  {
   "cell_type": "code",
   "execution_count": null,
   "metadata": {},
   "outputs": [],
   "source": []
  },
  {
   "cell_type": "code",
   "execution_count": null,
   "metadata": {},
   "outputs": [],
   "source": []
  },
  {
   "cell_type": "code",
   "execution_count": null,
   "metadata": {},
   "outputs": [],
   "source": []
  }
 ],
 "metadata": {
  "kernelspec": {
   "display_name": "Python 3",
   "language": "python",
   "name": "python3"
  },
  "language_info": {
   "codemirror_mode": {
    "name": "ipython",
    "version": 3
   },
   "file_extension": ".py",
   "mimetype": "text/x-python",
   "name": "python",
   "nbconvert_exporter": "python",
   "pygments_lexer": "ipython3",
   "version": "3.9.0"
  }
 },
 "nbformat": 4,
 "nbformat_minor": 2
}
