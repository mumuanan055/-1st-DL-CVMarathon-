{
 "cells": [
  {
   "cell_type": "markdown",
   "metadata": {},
   "source": [
    "# PTT 網路爬蟲實作練習\n",
    "\n",
    "\n",
    "* 能夠利用 Request + BeatifulSour 撰寫爬蟲，並存放到合適的資料結構\n"
   ]
  },
  {
   "cell_type": "markdown",
   "metadata": {},
   "source": [
    "## 作業目標\n",
    "\n",
    "根據範例 ，完成以下問題：\n",
    "\n",
    "* ① 印出最新文章的「作者」「標題」「時間」\n",
    "* ② 印出第一頁所有文章的「作者」「標題」「時間」\n"
   ]
  },
  {
   "cell_type": "markdown",
   "metadata": {},
   "source": [
    "### ① 印出最新文章的「作者」「標題」「時間」"
   ]
  },
  {
   "cell_type": "code",
   "execution_count": 40,
   "metadata": {},
   "outputs": [
    {
     "name": "stdout",
     "output_type": "stream",
     "text": [
      "Re: [新聞] 莫瑞：三分球不公平 應該只值兩分半 作者是 mj116 發布的日期  3/21\n"
     ]
    }
   ],
   "source": [
    "import requests \n",
    "from bs4 import BeautifulSoup\n",
    "\n",
    "url=\"https://www.ptt.cc/bbs/NBA/index.html\"\n",
    "re=requests.get(url)\n",
    "\n",
    "soup=BeautifulSoup(re.text,\"html.parser\")\n",
    "\n",
    "\n",
    "latest_title=soup.find(class_=\"title\")\n",
    "latest_author=soup.find(class_=\"author\")\n",
    "latest_date=soup.find(class_=\"date\")\n",
    "print(latest_title.text.replace(\"\\n\",\"\"),\"作者是\",latest_author.text.replace(\"\\n\",\"\") ,\n",
    "\"發布的日期\",latest_date.text.replace(\"\\n\",\"\") )\n"
   ]
  },
  {
   "cell_type": "markdown",
   "metadata": {},
   "source": [
    "### ② 印出第一頁所有文章的「作者」「標題」「時間」"
   ]
  },
  {
   "cell_type": "code",
   "execution_count": 88,
   "metadata": {},
   "outputs": [
    {
     "name": "stdout",
     "output_type": "stream",
     "text": [
      "['Re: [新聞] 莫瑞：三分球不公平 應該只值兩分半'] ['mj116'] [' 3/21']\n",
      "['[新聞]黃蜂遭洛城雙雄雙殺 快艇一吐怨氣主場大 '] ['godiegroup'] [' 3/21']\n",
      "['Re: [討論] 新生代的進攻萬花筒，有誰?'] ['hotcore'] [' 3/21']\n",
      "['Re: [新聞] 詹皇推特喊身心都很難受 希爾回應刻意傷'] ['msarthur'] [' 3/21']\n",
      "['[討論] 各位怎麼看後續艾倫的發展？'] ['zxzx485612'] [' 3/21']\n",
      "['[花邊] 與安戴托昆波相視而笑 塔克笑喊終於不用當對手'] ['thnlkj0665'] [' 3/21']\n",
      "['[情報] ★今日排名(2021.03.21)★'] ['Rambo'] [' 3/21']\n",
      "['[公告] 板規v6.8'] ['Vedan'] [' 5/24']\n",
      "['[情報] 2020-21 自由球員市場異動 (表格)(12/10)'] ['laigei'] ['11/19']\n",
      "['[情報] 2020-21 自由球員市場異動 (每日文字)  '] ['laigei'] ['11/19']\n",
      "['[情報] SEASON Schedule 賽程 March 20–21'] ['laptic'] [' 2/26']\n",
      "['Fw: [情報] 33rd 小天使招考（3/8～3/18）'] ['hp6304'] [' 3/10']\n"
     ]
    }
   ],
   "source": [
    "posts=soup.find_all(class_=\"r-ent\")\n",
    "authors=[]\n",
    "titles=[]\n",
    "dates=[] \n",
    "\n",
    "for post in posts:\n",
    "    titles=[title.text.replace(\"\\n\",\"\") for title in post.select(\".title\")]\n",
    "    authors=[author.text for author in post.select(\".author\")]\n",
    "    dates=[date.text for date in post.select(\".date\")]  \n",
    "    print(titles,authors,dates)\n",
    "\n",
    " \n",
    "\n",
    "# df_NBA[\"標題\"]=titles\n",
    "# df_NBA[\"作者\"]=authors\n",
    "# df_NBA"
   ]
  },
  {
   "cell_type": "markdown",
   "metadata": {},
   "source": [
    "### ③ 試著爬爬看其他版的文章"
   ]
  },
  {
   "cell_type": "code",
   "execution_count": 91,
   "metadata": {},
   "outputs": [
    {
     "name": "stdout",
     "output_type": "stream",
     "text": [
      "['[心得] 天堂之花（2011）'] ['lyo1014'] [' 3/21']\n",
      "['[LIVE] 我們的愛情不正常 (民視) EP01'] ['MikaHakkinen'] [' 3/21']\n",
      "['[LIVE] 日曜劇場\"天堂與地獄\"最終回 台灣8pm'] ['laisharon'] [' 3/21']\n",
      "['[LIVE] 直衝青天 第6回 (台灣 7PM)'] ['kyhkyh'] [' 3/21']\n",
      "['Re: [閒聊] 最喜愛之綾瀨遙飾演角色投票'] ['laisharon'] [' 3/21']\n",
      "['[公告] 日劇版版規 2020.08.22 '] ['coldeden'] [' 8/22']\n",
      "['[公告] 2021年3月份違規處理暨版務交流區'] ['coldeden'] [' 3/01']\n",
      "['[公告] 置底閒聊區(2021冬 第十四篇)'] ['coldeden'] [' 3/12']\n"
     ]
    }
   ],
   "source": [
    "#japandrama\n",
    "\n",
    "u=\"https://www.ptt.cc/bbs/Japandrama/index.html\"\n",
    "japan=requests.get(u)\n",
    "soup=BeautifulSoup(japan.text,\"html.parser\")\n",
    "\n",
    "\n",
    "posts=soup.find_all(class_=\"r-ent\")\n",
    "authors=[]\n",
    "titles=[]\n",
    "dates=[] \n",
    "\n",
    "for post in posts:\n",
    "    titles=[title.text.replace(\"\\n\",\"\") for title in post.select(\".title\")]\n",
    "    authors=[author.text for author in post.select(\".author\")]\n",
    "    dates=[date.text for date in post.select(\".date\")]  \n",
    "    print(titles,authors,dates)\n",
    "\n"
   ]
  },
  {
   "cell_type": "code",
   "execution_count": null,
   "metadata": {},
   "outputs": [],
   "source": []
  }
 ],
 "metadata": {
  "kernelspec": {
   "display_name": "Python 3",
   "language": "python",
   "name": "python3"
  },
  "language_info": {
   "codemirror_mode": {
    "name": "ipython",
    "version": 3
   },
   "file_extension": ".py",
   "mimetype": "text/x-python",
   "name": "python",
   "nbconvert_exporter": "python",
   "pygments_lexer": "ipython3",
   "version": "3.9.0"
  }
 },
 "nbformat": 4,
 "nbformat_minor": 2
}
