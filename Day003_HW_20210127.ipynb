{
 "cells": [
  {
   "cell_type": "markdown",
   "metadata": {},
   "source": [
    "# Python 下載XML檔案與解析\n",
    "\n",
    "\n",
    "* 了解 xml 檔案格式與內容\n",
    "* 能夠利用套件存取 xml 格式的檔案\n"
   ]
  },
  {
   "cell_type": "markdown",
   "metadata": {},
   "source": [
    "## 作業目標\n",
    "\n",
    "* 比較一下範例檔案中的「File I/O」與「xmltodict」讀出來的內容有什麼差異\n",
    "\n",
    "* 根據範例檔案的結果：\n",
    "    1. 請問高雄市有多少地區有溫度資料？\n",
    "    2. 請取出每一個地區所記錄的第一個時間點跟溫度\n",
    "    3. 請取出第一個地區所記錄的每一個時間點跟溫度"
   ]
  },
  {
   "cell_type": "markdown",
   "metadata": {},
   "source": [
    "### 比較一下範例檔案中的「File I/O」與「xmltodict」讀出來的內容有什麼差異\n"
   ]
  },
  {
   "cell_type": "code",
   "execution_count": 102,
   "metadata": {
    "scrolled": true
   },
   "outputs": [
    {
     "name": "stdout",
     "output_type": "stream",
     "text": [
      "<?xml version=\"1.0\" encoding=\"UTF-8\"?>\n",
      "<CUPOY>\n",
      "    <Title>爬蟲馬拉松</Title>\n",
      "    <Author>Wei</Author>\n",
      "    <Chapters>\n",
      "        <Chapter name=\"01\">資料來源與存取</Chapter>\n",
      "        <Chapter name=\"02\">靜態網頁爬蟲</Chapter>\n",
      "        <Chapter name=\"03\">動態網頁爬蟲</Chapter>\n",
      "    </Chapters>\n",
      "</CUPOY>\n",
      "{'CUPOY': OrderedDict([('Title', '爬蟲馬拉松'), ('Author', 'Wei'), ('Chapters', OrderedDict([('Chapter', [OrderedDict([('@name', '01'), ('#text', '資料來源與存取')]), OrderedDict([('@name', '02'), ('#text', '靜態網頁爬蟲')]), OrderedDict([('@name', '03'), ('#text', '動態網頁爬蟲')])])]))])}\n"
     ]
    }
   ],
   "source": [
    "file=open(\"sample.xml\",\"r\")\n",
    "a=file.read()\n",
    "print(a)\n",
    "\n",
    "import xmltodict\n",
    "with open(\"sample.xml\") as fh:\n",
    "    sample=dict(xmltodict.parse(fh.read()))\n",
    "    print(sample)\n",
    "    \n",
    "    \n",
    "#File I/O 顯示xml的原檔，直接讀取檔案內容，xmltodict會使用字典的方式顯示檔案內容"
   ]
  },
  {
   "cell_type": "markdown",
   "metadata": {},
   "source": [
    "### 根據範例檔案的結果：\n",
    "\n",
    "1. 請問高雄市有多少地區有溫度資料？\n",
    "2. 請取出每一個地區所記錄的第一個時間點跟溫度\n",
    "3. 請取出第一個地區所記錄的每一個時間點跟溫度"
   ]
  },
  {
   "cell_type": "code",
   "execution_count": 2,
   "metadata": {},
   "outputs": [
    {
     "name": "stdout",
     "output_type": "stream",
     "text": [
      "有溫度的資料: 38\n"
     ]
    }
   ],
   "source": [
    "# 1. 請問高雄市有多少地區有溫度資料？\n",
    "import xmltodict\n",
    "\n",
    "with open(\"高雄區資料.xml\") as data:\n",
    "    temp=dict(xmltodict.parse(data.read()))\n",
    "\n",
    "    \n",
    "# print(temp[\"cwbopendata\"][\"dataset\"][\"locations\"][\"location\"])\n",
    "kao_temp=temp[\"cwbopendata\"][\"dataset\"][\"locations\"][\"location\"]#觀察xml裡面的資料去推每一層\n",
    "print(\"有溫度的資料:\",len(kao_temp))"
   ]
  },
  {
   "cell_type": "code",
   "execution_count": 3,
   "metadata": {},
   "outputs": [
    {
     "name": "stdout",
     "output_type": "stream",
     "text": [
      "鹽埕區 2019-06-28T12:00:00+08:00 32 攝氏度\n",
      "鼓山區 2019-06-28T12:00:00+08:00 32 攝氏度\n",
      "左營區 2019-06-28T12:00:00+08:00 32 攝氏度\n",
      "楠梓區 2019-06-28T12:00:00+08:00 32 攝氏度\n",
      "三民區 2019-06-28T12:00:00+08:00 31 攝氏度\n",
      "新興區 2019-06-28T12:00:00+08:00 32 攝氏度\n",
      "前金區 2019-06-28T12:00:00+08:00 32 攝氏度\n",
      "苓雅區 2019-06-28T12:00:00+08:00 32 攝氏度\n",
      "前鎮區 2019-06-28T12:00:00+08:00 32 攝氏度\n",
      "旗津區 2019-06-28T12:00:00+08:00 31 攝氏度\n",
      "小港區 2019-06-28T12:00:00+08:00 32 攝氏度\n",
      "鳳山區 2019-06-28T12:00:00+08:00 32 攝氏度\n",
      "林園區 2019-06-28T12:00:00+08:00 32 攝氏度\n",
      "大寮區 2019-06-28T12:00:00+08:00 32 攝氏度\n",
      "大樹區 2019-06-28T12:00:00+08:00 32 攝氏度\n",
      "大社區 2019-06-28T12:00:00+08:00 32 攝氏度\n",
      "仁武區 2019-06-28T12:00:00+08:00 32 攝氏度\n",
      "鳥松區 2019-06-28T12:00:00+08:00 31 攝氏度\n",
      "岡山區 2019-06-28T12:00:00+08:00 32 攝氏度\n",
      "橋頭區 2019-06-28T12:00:00+08:00 32 攝氏度\n",
      "燕巢區 2019-06-28T12:00:00+08:00 32 攝氏度\n",
      "田寮區 2019-06-28T12:00:00+08:00 31 攝氏度\n",
      "阿蓮區 2019-06-28T12:00:00+08:00 31 攝氏度\n",
      "路竹區 2019-06-28T12:00:00+08:00 32 攝氏度\n",
      "湖內區 2019-06-28T12:00:00+08:00 31 攝氏度\n",
      "茄萣區 2019-06-28T12:00:00+08:00 31 攝氏度\n",
      "永安區 2019-06-28T12:00:00+08:00 31 攝氏度\n",
      "彌陀區 2019-06-28T12:00:00+08:00 31 攝氏度\n",
      "梓官區 2019-06-28T12:00:00+08:00 31 攝氏度\n",
      "旗山區 2019-06-28T12:00:00+08:00 31 攝氏度\n",
      "美濃區 2019-06-28T12:00:00+08:00 32 攝氏度\n",
      "六龜區 2019-06-28T12:00:00+08:00 30 攝氏度\n",
      "甲仙區 2019-06-28T12:00:00+08:00 29 攝氏度\n",
      "杉林區 2019-06-28T12:00:00+08:00 32 攝氏度\n",
      "內門區 2019-06-28T12:00:00+08:00 31 攝氏度\n",
      "茂林區 2019-06-28T12:00:00+08:00 30 攝氏度\n",
      "桃源區 2019-06-28T12:00:00+08:00 27 攝氏度\n",
      "那瑪夏區 2019-06-28T12:00:00+08:00 25 攝氏度\n"
     ]
    }
   ],
   "source": [
    "# 2. 請取出每一個地區所記錄的第一個時間點跟溫度\n",
    "\n",
    "for i in kao_temp:\n",
    "#     print(i[\"locationName\"])\n",
    "    地區=i[\"locationName\"] #找出每個地區\n",
    "    時間=i[\"weatherElement\"][0][\"time\"][0][\"startTime\"] #地區的第一個時間點\n",
    "    溫度=i[\"weatherElement\"][0][\"time\"][0][\"elementValue\"][\"value\"] #地區的溫度\n",
    "    measures=i[\"weatherElement\"][0][\"time\"][0][\"elementValue\"][\"measures\"]\n",
    "    print(地區,時間,溫度,measures)"
   ]
  },
  {
   "cell_type": "code",
   "execution_count": 9,
   "metadata": {},
   "outputs": [
    {
     "name": "stdout",
     "output_type": "stream",
     "text": [
      "區域的時間點紀錄: 7\n",
      "2019-06-28T12:00:00+08:00 32 攝氏度\n",
      "2019-06-29T00:00:00+08:00 30 攝氏度\n",
      "2019-06-30T00:00:00+08:00 30 攝氏度\n",
      "2019-07-01T00:00:00+08:00 30 攝氏度\n",
      "2019-07-02T00:00:00+08:00 30 攝氏度\n",
      "2019-07-03T00:00:00+08:00 30 攝氏度\n",
      "2019-07-04T00:00:00+08:00 30 攝氏度\n"
     ]
    }
   ],
   "source": [
    "# 3. 請取出第一個地區所記錄的每一個時間點跟溫度\n",
    "\n",
    "first_loc=kao_temp[0][\"locationName\"]\n",
    "loc_detail=kao_temp[0][\"weatherElement\"][0][\"time\"]\n",
    "\n",
    "# print(loc_detail)\n",
    "print(\"區域的時間點紀錄:\",len(loc_detail)) \n",
    "\n",
    "\n",
    "\n",
    "for i in loc_detail:\n",
    "    datetime =i[\"startTime\"]\n",
    "    temp = i[\"elementValue\"][\"value\"]\n",
    "    measure = i[\"elementValue\"][\"measures\"]\n",
    "    print(datetime,temp,measure)\n"
   ]
  },
  {
   "cell_type": "code",
   "execution_count": null,
   "metadata": {},
   "outputs": [],
   "source": []
  },
  {
   "cell_type": "code",
   "execution_count": null,
   "metadata": {},
   "outputs": [],
   "source": []
  }
 ],
 "metadata": {
  "kernelspec": {
   "display_name": "Python 3",
   "language": "python",
   "name": "python3"
  },
  "language_info": {
   "codemirror_mode": {
    "name": "ipython",
    "version": 3
   },
   "file_extension": ".py",
   "mimetype": "text/x-python",
   "name": "python",
   "nbconvert_exporter": "python",
   "pygments_lexer": "ipython3",
   "version": "3.9.0"
  }
 },
 "nbformat": 4,
 "nbformat_minor": 2
}
