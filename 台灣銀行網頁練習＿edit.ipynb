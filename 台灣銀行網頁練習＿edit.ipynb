{
  "nbformat": 4,
  "nbformat_minor": 0,
  "metadata": {
    "kernelspec": {
      "name": "python392jvsc74a57bd0aee8b7b246df8f9039afb4144a1f6fd8d2ca17a180786b69acc140d282b71a49",
      "display_name": "Python 3.9.2 64-bit"
    },
    "language_info": {
      "codemirror_mode": {
        "name": "ipython",
        "version": 3
      },
      "file_extension": ".py",
      "mimetype": "text/x-python",
      "name": "python",
      "nbconvert_exporter": "python",
      "pygments_lexer": "ipython3",
      "version": "3.9.2"
    },
    "metadata": {
      "interpreter": {
        "hash": "aee8b7b246df8f9039afb4144a1f6fd8d2ca17a180786b69acc140d282b71a49"
      }
    },
    "colab": {
      "name": "台灣銀行網頁練習.ipynb",
      "provenance": []
    }
  },
  "cells": [
    {
      "cell_type": "code",
      "metadata": {
        "id": "q68PCbvSlHrS"
      },
      "source": [
        "# 兩個部分：\n",
        "# 練習爬蟲的話 沒問題\n",
        "# 如果只是要拿資料, 網站下方有 link 可以直接用 request 的方式撈 xd\n",
        "\n",
        "# AttributeError: 'NavigableString' object has no attribute 'find_all'\n",
        "# 這個 error 的意思是 NavigableString.xxx 中沒有 find_all 這個東西可以處理\n",
        "# each_currency=[currency.text for currency in each_coin.find_all(name=\"div\",attrs={\"class\":\"rate-content-cash text-right print_hide\"})]\n",
        "# Debug 的角度來看 你要去剖析 each_coin 裡面是什麼東西"
      ],
      "execution_count": null,
      "outputs": []
    },
    {
      "cell_type": "code",
      "metadata": {
        "id": "tZVrdl4QlHra"
      },
      "source": [
        "import requests\n",
        "from bs4 import BeautifulSoup\n",
        "from datetime import datetime\n",
        "import pandas as pd\n",
        "import matplotlib.pyplot as plt"
      ],
      "execution_count": 1,
      "outputs": []
    },
    {
      "cell_type": "code",
      "metadata": {
        "tags": [],
        "id": "4EM_j_nzlHrc"
      },
      "source": [
        "url=\"https://rate.bot.com.tw/xrt?Lang=zh-TW\"\n",
        "resp=requests.get(url)\n",
        "\n",
        "soup=BeautifulSoup(resp.text,\"html.parser\")\n",
        "print(soup)"
      ],
      "execution_count": null,
      "outputs": []
    },
    {
      "cell_type": "code",
      "metadata": {
        "colab": {
          "base_uri": "https://localhost:8080/"
        },
        "id": "VR7bZblzlHrd",
        "outputId": "7294eb32-e724-40ec-8423-ff8d4e2152e2"
      },
      "source": [
        "\n",
        "for currency in soup.find_all(\"tr\")[2:]:\n",
        "    # print(currency, end=\"\\n\\n\\n\")\n",
        "    print(currency.find_all(\"div\", class_ = \"visible-phone print_hide\")[0].text.replace(\" \", \"\")) # Currency Name\n",
        "    #找出div中的幣別值，需要定位到[0]需要\n",
        "    # print(currency.find_all(\"td\", class_ = \"text-right display_none_print_show print_width\"))\n",
        "    for price_cash in currency.find_all(\"td\", class_ = \"text-right display_none_print_show print_width\")[0:2]:\n",
        "      print(\"現金匯率:\",price_cash.text)\n",
        "    for price_imm in currency.find_all(\"td\", class_ = \"text-right display_none_print_show print_width\")[2:4]:\n",
        "      print(\"即期匯率:\",price_imm.text)\n"
      ],
      "execution_count": 61,
      "outputs": [
        {
          "output_type": "stream",
          "text": [
            "\r\n",
            "美金(USD)\r\n",
            "\n",
            "現金匯率: 28.03\n",
            "現金匯率: 28.7\n",
            "即期匯率: 28.355\n",
            "即期匯率: 28.505\n",
            "\r\n",
            "港幣(HKD)\r\n",
            "\n",
            "現金匯率: 3.5\n",
            "現金匯率: 3.704\n",
            "即期匯率: 3.621\n",
            "即期匯率: 3.691\n",
            "\r\n",
            "英鎊(GBP)\r\n",
            "\n",
            "現金匯率: 37.79\n",
            "現金匯率: 39.91\n",
            "即期匯率: 38.685\n",
            "即期匯率: 39.315\n",
            "\r\n",
            "澳幣(AUD)\r\n",
            "\n",
            "現金匯率: 21.28\n",
            "現金匯率: 22.06\n",
            "即期匯率: 21.495\n",
            "即期匯率: 21.84\n",
            "\r\n",
            "加拿大幣(CAD)\r\n",
            "\n",
            "現金匯率: 22.21\n",
            "現金匯率: 23.12\n",
            "即期匯率: 22.54\n",
            "即期匯率: 22.87\n",
            "\r\n",
            "新加坡幣(SGD)\r\n",
            "\n",
            "現金匯率: 20.62\n",
            "現金匯率: 21.53\n",
            "即期匯率: 21.09\n",
            "即期匯率: 21.31\n",
            "\r\n",
            "瑞士法郎(CHF)\r\n",
            "\n",
            "現金匯率: 29.93\n",
            "現金匯率: 31.13\n",
            "即期匯率: 30.54\n",
            "即期匯率: 30.93\n",
            "\r\n",
            "日圓(JPY)\r\n",
            "\n",
            "現金匯率: 0.25\n",
            "現金匯率: 0.2628\n",
            "即期匯率: 0.257\n",
            "即期匯率: 0.2616\n",
            "\r\n",
            "南非幣(ZAR)\r\n",
            "\n",
            "現金匯率: -\n",
            "現金匯率: -\n",
            "即期匯率: 1.902\n",
            "即期匯率: 1.992\n",
            "\r\n",
            "瑞典幣(SEK)\r\n",
            "\n",
            "現金匯率: 2.94\n",
            "現金匯率: 3.46\n",
            "即期匯率: 3.27\n",
            "即期匯率: 3.39\n",
            "\r\n",
            "紐元(NZD)\r\n",
            "\n",
            "現金匯率: 19.51\n",
            "現金匯率: 20.36\n",
            "即期匯率: 19.84\n",
            "即期匯率: 20.14\n",
            "\r\n",
            "泰幣(THB)\r\n",
            "\n",
            "現金匯率: 0.7762\n",
            "現金匯率: 0.9662\n",
            "即期匯率: 0.8856\n",
            "即期匯率: 0.9316\n",
            "\r\n",
            "菲國比索(PHP)\r\n",
            "\n",
            "現金匯率: 0.5121\n",
            "現金匯率: 0.6451\n",
            "即期匯率: -\n",
            "即期匯率: -\n",
            "\r\n",
            "印尼幣(IDR)\r\n",
            "\n",
            "現金匯率: 0.00158\n",
            "現金匯率: 0.00228\n",
            "即期匯率: -\n",
            "即期匯率: -\n",
            "\r\n",
            "歐元(EUR)\r\n",
            "\n",
            "現金匯率: 33.02\n",
            "現金匯率: 34.36\n",
            "即期匯率: 33.535\n",
            "即期匯率: 34.135\n",
            "\r\n",
            "韓元(KRW)\r\n",
            "\n",
            "現金匯率: 0.02362\n",
            "現金匯率: 0.02752\n",
            "即期匯率: -\n",
            "即期匯率: -\n",
            "\r\n",
            "越南盾(VND)\r\n",
            "\n",
            "現金匯率: 0.00084\n",
            "現金匯率: 0.00134\n",
            "即期匯率: -\n",
            "即期匯率: -\n",
            "\r\n",
            "馬來幣(MYR)\r\n",
            "\n",
            "現金匯率: 5.764\n",
            "現金匯率: 7.389\n",
            "即期匯率: -\n",
            "即期匯率: -\n",
            "\r\n",
            "人民幣(CNY)\r\n",
            "\n",
            "現金匯率: 4.239\n",
            "現金匯率: 4.401\n",
            "即期匯率: 4.306\n",
            "即期匯率: 4.366\n"
          ],
          "name": "stdout"
        }
      ]
    },
    {
      "cell_type": "code",
      "metadata": {
        "id": "p9otU_5WlHrg"
      },
      "source": [
        "# "
      ],
      "execution_count": null,
      "outputs": []
    },
    {
      "cell_type": "code",
      "metadata": {
        "id": "lFAZD9LilHrh"
      },
      "source": [
        ""
      ],
      "execution_count": null,
      "outputs": []
    },
    {
      "cell_type": "code",
      "metadata": {
        "id": "8gpSbP50lHrh"
      },
      "source": [
        ""
      ],
      "execution_count": null,
      "outputs": []
    }
  ]
}